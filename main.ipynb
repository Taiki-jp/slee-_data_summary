{
 "cells": [
  {
   "cell_type": "code",
   "execution_count": 1,
   "metadata": {},
   "outputs": [],
   "source": [
    "from utils import *"
   ]
  },
  {
   "cell_type": "code",
   "execution_count": 2,
   "metadata": {},
   "outputs": [
    {
     "output_type": "stream",
     "name": "stdout",
     "text": [
      "0_【未整理】_TANITA_signals\n0_未整理_ALICE\n0_未整理_TEIJIN\n140421_KINJYO\n140430_KINJYO\n140522_KINJYO\n140529_NAGAE\n140616_SAWADA\n140618_SAWADA\n140623_OIKAWA\n140625_OIKAWA\n140627_OIKAWA\n140701_RI\n140703_RI\n140707_RI\n140711_Yamamoto\n140714_Yamamoto\n140715_Sato\n140716_Sato\n140717_Yamamoto\n140731_Umezawa\n140801_Saito\n140805_Umezawa\n140806_Yanaka\n140807_Yanaka\n140808_Yasuda\n140811_Yanaka\n140819_Kumazawa_F\n140820_Yasuda\n140821_Murakami\n140823_Murakami\n140825_Kashiwazaki\n140826_Ootsuji\n140828_Ootsuji\n140829_Kawasaki\n140830_Murakami\n140901_Hiromoto\n140902_Kato\n140903_Kato\n140922_Kumazawa_M\n140925_Kashiwazki\n140926_Kashiwazaki\n140929_Kumazawa\n140930_Hayashi\n141001_Hayashi\n141002_Hayashi\n141003_Kashiwazaki_F\n141006_Hiromoto\n141009_Kashiwazaki_F\n141010_Kashiwazaki_F\n141014_Kumazawa_F\n141015_Hiromoto\n141022_Ishii\n141024_Kawasaki_F\n141024_Takano\n141027_Kawasaki_F\n141029_Umezawa\n141030_Kumazawa_F\n141104_Takadama\n141124_Murata\n141127_Tatsumi\n141128_Sato_Minato\n141204_Tatebe\n141205_Fujitsuka\n141208_Jimba\n141212_Saito\n141215_Tomura\n141216_Takano\n141217_Sugimoto\n141219_Usui\n151102_Nagae\n151104_Nagae\n151105_Nagae\n151106_Nagae\n151109_Takadama_(No_TANITA)\n151111_Kawasaki\n151112_Kawasaki\n151113_Kawasaki\n151118_Tomoko_Nagae\n151119_Tomoko_Nagae\n151120_Tanaka\n151125_Umenai\n151126_Tanaka\n151127_Tanaka\n151201_Tomoko_Nagae\n151204_Umenai\n151205_Chou\n151207_Matsumoto\n151208_Murata\n151209_Umenai\n151210_Hoshino\n151214_Matsumoto\n151215_Ishii_Haruyuki\n151217_Hoshino\n151217_Ishii_Haruyuki\n151219_Chou\nALICE PDx解析済.xlsx\nEMOOR被験者実験_各種まとめ.xlsx\n"
     ]
    }
   ],
   "source": [
    "# フォルダの構成を確認\n",
    "folders = return_target_folders()\n",
    "for i in range(len(folders)):\n",
    "    root_dir, dir_name = os.path.split(folders[i])\n",
    "    print(dir_name)"
   ]
  },
  {
   "cell_type": "code",
   "execution_count": 3,
   "metadata": {},
   "outputs": [
    {
     "output_type": "error",
     "ename": "SyntaxError",
     "evalue": "invalid syntax (<ipython-input-3-0e39cad1610b>, line 7)",
     "traceback": [
      "\u001b[1;36m  File \u001b[1;32m\"<ipython-input-3-0e39cad1610b>\"\u001b[1;36m, line \u001b[1;32m7\u001b[0m\n\u001b[1;33m    for Aborting\u001b[0m\n\u001b[1;37m                ^\u001b[0m\n\u001b[1;31mSyntaxError\u001b[0m\u001b[1;31m:\u001b[0m invalid syntax\n"
     ]
    }
   ],
   "source": [
    "# 見る必要のないフォルダを捨てる\n",
    "folders = return_target_folders()\n",
    "aborter = aboarting\n",
    "_tmp_list = list()\n",
    "for i in range(len(folders)):\n",
    "    root_dir, dir_name = os.path.split(folders[i])\n",
    "    for Aborting\n",
    "    if dir_name.find()"
   ]
  },
  {
   "cell_type": "code",
   "execution_count": null,
   "metadata": {},
   "outputs": [],
   "source": []
  }
 ],
 "metadata": {
  "interpreter": {
   "hash": "2db524e06e9f5f4ffedc911c917cb75e12dbc923643829bf417064a77eb14d37"
  },
  "kernelspec": {
   "name": "python3",
   "display_name": "Python 3.8.0 64-bit"
  },
  "language_info": {
   "name": "python",
   "version": "3.8.0"
  },
  "orig_nbformat": 4
 },
 "nbformat": 4,
 "nbformat_minor": 2
}