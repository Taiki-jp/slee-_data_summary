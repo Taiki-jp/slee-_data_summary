{
 "cells": [
  {
   "cell_type": "code",
   "execution_count": null,
   "metadata": {},
   "outputs": [],
   "source": [
    "import numpy as np\r\n",
    "import glob.glob as glob\r\n"
   ]
  }
 ],
 "metadata": {
  "interpreter": {
   "hash": "632cb24dbfa4fac8798cfd15a8ab3a001eeb3e48b7d5da1d785dd84e0ff48be8"
  },
  "kernelspec": {
   "display_name": "Python 3.8.0 64-bit",
   "name": "python3"
  },
  "language_info": {
   "name": "python",
   "version": ""
  },
  "orig_nbformat": 4
 },
 "nbformat": 4,
 "nbformat_minor": 2
}